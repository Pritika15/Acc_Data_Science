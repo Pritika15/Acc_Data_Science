{
  "nbformat": 4,
  "nbformat_minor": 0,
  "metadata": {
    "colab": {
      "provenance": []
    },
    "kernelspec": {
      "name": "python3",
      "display_name": "Python 3"
    },
    "language_info": {
      "name": "python"
    }
  },
  "cells": [
    {
      "cell_type": "code",
      "execution_count": 16,
      "metadata": {
        "id": "KtjjQ2AyDJrA"
      },
      "outputs": [],
      "source": [
        "import numpy as np\n",
        "import pandas as pd\n",
        "from sklearn.model_selection import train_test_split\n",
        "from sklearn.tree import DecisionTreeClassifier\n",
        "from sklearn.metrics import confusion_matrix\n",
        "from sklearn.metrics import accuracy_score\n",
        "from sklearn.metrics import classification_report"
      ]
    },
    {
      "cell_type": "code",
      "source": [
        "#Importing the dataset\n",
        "def Importdata():\n",
        "  balance_data=pd.read_csv('https://archive.ics.uci.edu/ml/machine-learning-databases/balance-scale/balance-scale.data')\n",
        "\n",
        "  #displaying the shape of the dataset\n",
        "  print(\"Dataset length:\",len(balance_data))\n",
        "  print(\"Dataset Shape\", balance_data.shape)\n",
        "\n",
        "  #Displaying the observations of the dataset\n",
        "  print(\"Datatset Observations\", balance_data.head())\n",
        "\n",
        "  return balance_data\n",
        " "
      ],
      "metadata": {
        "id": "n9KFee3CDu1c"
      },
      "execution_count": 17,
      "outputs": []
    },
    {
      "cell_type": "code",
      "source": [
        "#Splitting the dataset\n",
        "def splitdataset(balance_data):\n",
        "  #separating teh target variables\n",
        "  x=balance_data.values[:,1:5]\n",
        "  y=balance_data.values[:,0]\n",
        "\n",
        "  #splitting the dataset into train and test\n",
        "  X_train,X_test,Y_train,Y_test=train_test_split(x,y,test_size=0.3,random_state=100)\n",
        "\n",
        "  return x,y,X_train,X_test,Y_train,Y_test\n"
      ],
      "metadata": {
        "id": "C4E_mtz2HE-1"
      },
      "execution_count": 19,
      "outputs": []
    },
    {
      "cell_type": "code",
      "source": [
        "#Training with information gain\n",
        "def train_with_infogain(X_train,X_test,Y_train):\n",
        "\n",
        "  #decision tree with information gain\n",
        "  clf_entropy=DecisionTreeClassifier(criterion=\"entropy\", random_state=100,max_depth=3, min_samples_leaf=5)\n",
        "\n",
        "  #performing training\n",
        "  clf_entropy.fit(X_train,Y_train)\n",
        "  return clf_entropy\n"
      ],
      "metadata": {
        "id": "EwqCpn9XJjda"
      },
      "execution_count": 22,
      "outputs": []
    },
    {
      "cell_type": "code",
      "source": [
        "#Predicting \n",
        "def prediction(X_test,clf_Object):\n",
        "  y_pred=clf_Object.predict(X_test)\n",
        "  print(\"predicted values\", y_pred)\n",
        "  return y_pred\n"
      ],
      "metadata": {
        "id": "QsfhKDK3OS7b"
      },
      "execution_count": 26,
      "outputs": []
    },
    {
      "cell_type": "code",
      "source": [
        "#evaluation\n",
        "def evaluation(Y_test,y_pred):\n",
        "  print(\"confusion matrix\", confusion_matrix(Y_test,y_pred))\n",
        "  print(\"accuracy\", accuracy_score(Y_test, y_pred)*100)"
      ],
      "metadata": {
        "id": "TqQiunlIO0Zk"
      },
      "execution_count": 32,
      "outputs": []
    },
    {
      "cell_type": "code",
      "source": [
        "data=Importdata()\n",
        "X,Y,X_train,X_test,Y_train,Y_test=splitdataset(data)\n",
        "# print(X,Y,X_train,X_test,Y_train,Y_test)\n",
        "#classification with decision tree\n",
        "clf_entropy=train_with_infogain(X_train,X_test,Y_train)\n",
        "clf_entropy\n",
        "\n",
        "y_pred_entropy=prediction(X_test,clf_entropy)\n",
        "evaluation(Y_test,y_pred_entropy)"
      ],
      "metadata": {
        "colab": {
          "base_uri": "https://localhost:8080/"
        },
        "id": "uAA0LY3BGgdD",
        "outputId": "3a038d86-86b6-4186-ff62-5f28aa9b257c"
      },
      "execution_count": 33,
      "outputs": [
        {
          "output_type": "stream",
          "name": "stdout",
          "text": [
            "Dataset length: 624\n",
            "Dataset Shape (624, 5)\n",
            "Datatset Observations    B  1  1.1  1.2  1.3\n",
            "0  R  1    1    1    2\n",
            "1  R  1    1    1    3\n",
            "2  R  1    1    1    4\n",
            "3  R  1    1    1    5\n",
            "4  R  1    1    2    1\n",
            "predicted values ['R' 'L' 'R' 'L' 'L' 'L' 'L' 'L' 'R' 'R' 'R' 'L' 'L' 'R' 'R' 'R' 'L' 'L'\n",
            " 'R' 'R' 'L' 'R' 'R' 'L' 'R' 'R' 'R' 'R' 'R' 'L' 'L' 'L' 'R' 'L' 'R' 'R'\n",
            " 'R' 'L' 'R' 'L' 'L' 'L' 'R' 'L' 'R' 'R' 'R' 'R' 'R' 'L' 'R' 'R' 'R' 'R'\n",
            " 'R' 'R' 'R' 'R' 'L' 'L' 'R' 'L' 'R' 'L' 'L' 'R' 'R' 'R' 'R' 'L' 'R' 'L'\n",
            " 'R' 'L' 'L' 'R' 'L' 'R' 'R' 'R' 'R' 'R' 'L' 'L' 'R' 'R' 'R' 'L' 'R' 'L'\n",
            " 'R' 'R' 'L' 'L' 'R' 'R' 'R' 'L' 'L' 'R' 'L' 'L' 'L' 'R' 'L' 'R' 'R' 'R'\n",
            " 'L' 'L' 'R' 'R' 'R' 'R' 'L' 'R' 'R' 'R' 'R' 'R' 'L' 'L' 'R' 'R' 'L' 'L'\n",
            " 'R' 'L' 'R' 'R' 'L' 'R' 'L' 'L' 'R' 'R' 'R' 'R' 'R' 'R' 'L' 'R' 'R' 'R'\n",
            " 'R' 'L' 'R' 'L' 'L' 'R' 'R' 'R' 'L' 'R' 'L' 'R' 'L' 'R' 'L' 'R' 'R' 'L'\n",
            " 'R' 'L' 'R' 'R' 'R' 'R' 'R' 'R' 'R' 'L' 'R' 'R' 'R' 'L' 'L' 'R' 'R' 'R'\n",
            " 'R' 'R' 'R' 'L' 'R' 'L' 'R' 'R']\n",
            "confusion matrix [[ 0  6  8]\n",
            " [ 0 53 38]\n",
            " [ 0 11 72]]\n",
            "accuracy 66.48936170212765\n"
          ]
        }
      ]
    }
  ]
}